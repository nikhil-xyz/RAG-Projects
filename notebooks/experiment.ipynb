{
 "cells": [
  {
   "cell_type": "code",
   "execution_count": 1,
   "metadata": {},
   "outputs": [],
   "source": [
    "import os\n",
    "from langchain_community.document_loaders import TextLoader"
   ]
  },
  {
   "cell_type": "code",
   "execution_count": 2,
   "metadata": {},
   "outputs": [
    {
     "data": {
      "text/plain": [
       "'c:\\\\Users\\\\nikhil\\\\OneDrive\\\\Desktop\\\\ML Projects\\\\RAG-Projects\\\\notebooks'"
      ]
     },
     "execution_count": 2,
     "metadata": {},
     "output_type": "execute_result"
    }
   ],
   "source": [
    "%pwd"
   ]
  },
  {
   "cell_type": "code",
   "execution_count": 3,
   "metadata": {},
   "outputs": [],
   "source": [
    "os.chdir(\"../\")"
   ]
  },
  {
   "cell_type": "code",
   "execution_count": 4,
   "metadata": {},
   "outputs": [
    {
     "data": {
      "text/plain": [
       "'c:\\\\Users\\\\nikhil\\\\OneDrive\\\\Desktop\\\\ML Projects\\\\RAG-Projects'"
      ]
     },
     "execution_count": 4,
     "metadata": {},
     "output_type": "execute_result"
    }
   ],
   "source": [
    "%pwd"
   ]
  },
  {
   "cell_type": "code",
   "execution_count": 5,
   "metadata": {},
   "outputs": [
    {
     "data": {
      "text/plain": [
       "['.git',\n",
       " 'carboniferous.txt',\n",
       " 'documents',\n",
       " 'LICENSE',\n",
       " 'notebooks',\n",
       " 'RAG_with_FAISS.ipynb',\n",
       " 'README.md',\n",
       " 'requirements.txt']"
      ]
     },
     "execution_count": 5,
     "metadata": {},
     "output_type": "execute_result"
    }
   ],
   "source": [
    "os.listdir('.')"
   ]
  },
  {
   "cell_type": "code",
   "execution_count": 6,
   "metadata": {},
   "outputs": [],
   "source": [
    "loader = TextLoader('carboniferous.txt')"
   ]
  },
  {
   "cell_type": "code",
   "execution_count": 7,
   "metadata": {},
   "outputs": [],
   "source": [
    "all_docs = loader.load()"
   ]
  },
  {
   "cell_type": "code",
   "execution_count": 8,
   "metadata": {},
   "outputs": [
    {
     "data": {
      "text/plain": [
       "[Document(metadata={'source': 'carboniferous.txt'}, page_content='The Carboniferous Period lasted from about 359.2 to 299 million years ago* during the late Paleozoic Era. \\nThe term \"Carboniferous\" comes from England, in reference to the rich deposits of coal that occur there. \\nThese deposits of coal occur throughout northern Europe, Asia, and midwestern and eastern North America. \\nThe term \"Carboniferous\" is used throughout the world to describe this period, although in the United States \\nit has been separated into the Mississippian (early Carboniferous) and the Pennsylvanian (late Carboniferous) Subsystems. \\nThis division was established to distinguish the coal-bearing layers of the Pennsylvanian from the mostly \\nlimestone Mississippian, and is a result of differing stratigraphy on the different continents. \\nThe Mississippian and Pennsylvanian, in turn, are subdivided into a number of internationally recognized \\nstages based on evolutionary successions of fossil groups . These stages are (from early to late) Tournaisian, \\nVisean, and Serpukhovian for the Mississippian — and Bashkirian, Moscovian, Kasimovian, and Gzhelian for the Pennsylvanian.\\n\\nIn addition to having the ideal conditions for the formation of coal, several major biological, geological, \\nand climatic events occurred during this time. Biologically, we see one of the greatest evolutionary innovations \\nof the Carboniferous: the amniote egg, which allowed for the further exploitation of the land by certain tetrapods. \\nIt gave the ancestors of birds, mammals, and reptiles the ability to lay their eggs on land without fear of desiccation. \\nGeologically, the Late Carboniferous collision of Laurasia (present-day Europe, Asia, and North America) into Gondwana \\n(present-day Africa, South America, Antarctica, Australia, and India) produced the Appalachian Mountain belt of \\neastern North America and the Hercynian Mountains in the United Kingdom. A further collision of Siberia and eastern \\nEurope created the Ural Mountains of Russia. And climatically, there was a trend towards mild temperatures during the \\nCarboniferous, as evidenced by the decrease in lycopods and large insects, and an increase in the number of tree ferns.\\n\\nThe stratigraphy of the Mississippian can be easily distinguished from that of the Pennsylvanian. The Mississippian \\nenvironment of North America was heavily marine, with seas covering parts of the continent. As a result, most Mississippian \\nrocks are limestone, which are composed of the remains of crinoids, lime-encrusted green algae, or calcium carbonate shaped by waves. \\nThe North American Pennsylvanian environment was alternately terrestrial and marine, with the transgression and regression of \\nthe seas caused by glaciation. These environmental conditions, with the vast amount of plant material provided by the extensive \\ncoal forests, allowed for the formation of coal. Plant material did not decay when the seas covered them, and pressure and \\nheat eventually built up over millions of years to transform the plant material to coal.')]"
      ]
     },
     "execution_count": 8,
     "metadata": {},
     "output_type": "execute_result"
    }
   ],
   "source": [
    "all_docs"
   ]
  },
  {
   "cell_type": "code",
   "execution_count": 9,
   "metadata": {},
   "outputs": [],
   "source": [
    "from langchain.text_splitter import CharacterTextSplitter"
   ]
  },
  {
   "cell_type": "code",
   "execution_count": 10,
   "metadata": {},
   "outputs": [],
   "source": [
    "splitter = CharacterTextSplitter(chunk_size=1000, chunk_overlap=200)"
   ]
  },
  {
   "cell_type": "code",
   "execution_count": 11,
   "metadata": {},
   "outputs": [
    {
     "name": "stderr",
     "output_type": "stream",
     "text": [
      "Created a chunk of size 1097, which is longer than the specified 1000\n",
      "Created a chunk of size 1050, which is longer than the specified 1000\n"
     ]
    }
   ],
   "source": [
    "docs = splitter.split_documents(all_docs)"
   ]
  },
  {
   "cell_type": "code",
   "execution_count": 12,
   "metadata": {},
   "outputs": [],
   "source": [
    "from langchain.embeddings import HuggingFaceEmbeddings"
   ]
  },
  {
   "cell_type": "code",
   "execution_count": 13,
   "metadata": {},
   "outputs": [
    {
     "name": "stderr",
     "output_type": "stream",
     "text": [
      "C:\\Program Files\\KMSpico\\temp\\ipykernel_15972\\874270572.py:1: LangChainDeprecationWarning: The class `HuggingFaceEmbeddings` was deprecated in LangChain 0.2.2 and will be removed in 1.0. An updated version of the class exists in the :class:`~langchain-huggingface package and should be used instead. To use it run `pip install -U :class:`~langchain-huggingface` and import as `from :class:`~langchain_huggingface import HuggingFaceEmbeddings``.\n",
      "  embedding = HuggingFaceEmbeddings(\n",
      "c:\\Users\\nikhil\\.conda\\envs\\rag\\lib\\site-packages\\tqdm\\auto.py:21: TqdmWarning: IProgress not found. Please update jupyter and ipywidgets. See https://ipywidgets.readthedocs.io/en/stable/user_install.html\n",
      "  from .autonotebook import tqdm as notebook_tqdm\n"
     ]
    }
   ],
   "source": [
    "embedding = HuggingFaceEmbeddings(\n",
    "    model_name = \"sentence-transformers/all-MiniLM-L6-v2\",\n",
    "    model_kwargs = {'device' : 'cpu'},\n",
    "    encode_kwargs = {'normalize_embeddings' : True}\n",
    ")"
   ]
  },
  {
   "cell_type": "code",
   "execution_count": 14,
   "metadata": {},
   "outputs": [],
   "source": [
    "from langchain_community.vectorstores import FAISS"
   ]
  },
  {
   "cell_type": "code",
   "execution_count": 15,
   "metadata": {},
   "outputs": [],
   "source": [
    "vector = FAISS.from_documents(docs, embedding)"
   ]
  },
  {
   "cell_type": "code",
   "execution_count": 16,
   "metadata": {},
   "outputs": [],
   "source": [
    "result = vector.similarity_search(\"what is the timeline of carboniferous period?\")"
   ]
  },
  {
   "cell_type": "code",
   "execution_count": 17,
   "metadata": {},
   "outputs": [
    {
     "data": {
      "text/plain": [
       "'In addition to having the ideal conditions for the formation of coal, several major biological, geological, \\nand climatic events occurred during this time. Biologically, we see one of the greatest evolutionary innovations \\nof the Carboniferous: the amniote egg, which allowed for the further exploitation of the land by certain tetrapods. \\nIt gave the ancestors of birds, mammals, and reptiles the ability to lay their eggs on land without fear of desiccation. \\nGeologically, the Late Carboniferous collision of Laurasia (present-day Europe, Asia, and North America) into Gondwana \\n(present-day Africa, South America, Antarctica, Australia, and India) produced the Appalachian Mountain belt of \\neastern North America and the Hercynian Mountains in the United Kingdom. A further collision of Siberia and eastern \\nEurope created the Ural Mountains of Russia. And climatically, there was a trend towards mild temperatures during the \\nCarboniferous, as evidenced by the decrease in lycopods and large insects, and an increase in the number of tree ferns.'"
      ]
     },
     "execution_count": 17,
     "metadata": {},
     "output_type": "execute_result"
    }
   ],
   "source": [
    "result[1].page_content"
   ]
  },
  {
   "cell_type": "code",
   "execution_count": null,
   "metadata": {},
   "outputs": [],
   "source": []
  }
 ],
 "metadata": {
  "kernelspec": {
   "display_name": "rag",
   "language": "python",
   "name": "python3"
  },
  "language_info": {
   "codemirror_mode": {
    "name": "ipython",
    "version": 3
   },
   "file_extension": ".py",
   "mimetype": "text/x-python",
   "name": "python",
   "nbconvert_exporter": "python",
   "pygments_lexer": "ipython3",
   "version": "3.10.16"
  }
 },
 "nbformat": 4,
 "nbformat_minor": 2
}
